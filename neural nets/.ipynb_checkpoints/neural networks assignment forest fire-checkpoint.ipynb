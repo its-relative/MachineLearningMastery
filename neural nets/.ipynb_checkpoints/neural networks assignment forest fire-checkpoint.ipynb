{
  "cells": [
    {
      "metadata": {
        "ExecuteTime": {
          "start_time": "2022-06-24T23:13:11.511421Z",
          "end_time": "2022-06-24T23:13:22.306655Z"
        },
        "trusted": true
      },
      "cell_type": "code",
      "source": "from tensorflow.keras.models import Sequential\nfrom keras.layers import Dense\nimport tensorflow as tf\nfrom tensorflow.keras.models import load_model\nfrom tensorflow.keras import layers\nimport pandas as pd\nimport numpy as np\nimport keras\nfrom sklearn.preprocessing import StandardScaler\nfrom sklearn.model_selection import GridSearchCV, KFold\nfrom keras.layers import Dense\nfrom keras.wrappers.scikit_learn import KerasClassifier\nfrom tensorflow.keras.optimizers import Adam\nfrom keras.layers import Dropout\nfrom sklearn.metrics import classification_report, accuracy_score\nfrom sklearn.model_selection import train_test_split",
      "execution_count": 1,
      "outputs": []
    },
    {
      "metadata": {
        "ExecuteTime": {
          "start_time": "2022-06-24T23:13:50.321276Z",
          "end_time": "2022-06-24T23:13:50.497578Z"
        },
        "trusted": true
      },
      "cell_type": "code",
      "source": "data=pd.read_csv('forestfires.csv')\ndata",
      "execution_count": 2,
      "outputs": [
        {
          "output_type": "execute_result",
          "execution_count": 2,
          "data": {
            "text/plain": "    month  day  FFMC    DMC     DC   ISI  temp  RH  wind  rain  ...  monthfeb  \\\n0     mar  fri  86.2   26.2   94.3   5.1   8.2  51   6.7   0.0  ...         0   \n1     oct  tue  90.6   35.4  669.1   6.7  18.0  33   0.9   0.0  ...         0   \n2     oct  sat  90.6   43.7  686.9   6.7  14.6  33   1.3   0.0  ...         0   \n3     mar  fri  91.7   33.3   77.5   9.0   8.3  97   4.0   0.2  ...         0   \n4     mar  sun  89.3   51.3  102.2   9.6  11.4  99   1.8   0.0  ...         0   \n..    ...  ...   ...    ...    ...   ...   ...  ..   ...   ...  ...       ...   \n512   aug  sun  81.6   56.7  665.6   1.9  27.8  32   2.7   0.0  ...         0   \n513   aug  sun  81.6   56.7  665.6   1.9  21.9  71   5.8   0.0  ...         0   \n514   aug  sun  81.6   56.7  665.6   1.9  21.2  70   6.7   0.0  ...         0   \n515   aug  sat  94.4  146.0  614.7  11.3  25.6  42   4.0   0.0  ...         0   \n516   nov  tue  79.5    3.0  106.7   1.1  11.8  31   4.5   0.0  ...         0   \n\n     monthjan  monthjul  monthjun  monthmar  monthmay  monthnov  monthoct  \\\n0           0         0         0         1         0         0         0   \n1           0         0         0         0         0         0         1   \n2           0         0         0         0         0         0         1   \n3           0         0         0         1         0         0         0   \n4           0         0         0         1         0         0         0   \n..        ...       ...       ...       ...       ...       ...       ...   \n512         0         0         0         0         0         0         0   \n513         0         0         0         0         0         0         0   \n514         0         0         0         0         0         0         0   \n515         0         0         0         0         0         0         0   \n516         0         0         0         0         0         1         0   \n\n     monthsep  size_category  \n0           0          small  \n1           0          small  \n2           0          small  \n3           0          small  \n4           0          small  \n..        ...            ...  \n512         0          large  \n513         0          large  \n514         0          large  \n515         0          small  \n516         0          small  \n\n[517 rows x 31 columns]",
            "text/html": "<div>\n<style scoped>\n    .dataframe tbody tr th:only-of-type {\n        vertical-align: middle;\n    }\n\n    .dataframe tbody tr th {\n        vertical-align: top;\n    }\n\n    .dataframe thead th {\n        text-align: right;\n    }\n</style>\n<table border=\"1\" class=\"dataframe\">\n  <thead>\n    <tr style=\"text-align: right;\">\n      <th></th>\n      <th>month</th>\n      <th>day</th>\n      <th>FFMC</th>\n      <th>DMC</th>\n      <th>DC</th>\n      <th>ISI</th>\n      <th>temp</th>\n      <th>RH</th>\n      <th>wind</th>\n      <th>rain</th>\n      <th>...</th>\n      <th>monthfeb</th>\n      <th>monthjan</th>\n      <th>monthjul</th>\n      <th>monthjun</th>\n      <th>monthmar</th>\n      <th>monthmay</th>\n      <th>monthnov</th>\n      <th>monthoct</th>\n      <th>monthsep</th>\n      <th>size_category</th>\n    </tr>\n  </thead>\n  <tbody>\n    <tr>\n      <th>0</th>\n      <td>mar</td>\n      <td>fri</td>\n      <td>86.2</td>\n      <td>26.2</td>\n      <td>94.3</td>\n      <td>5.1</td>\n      <td>8.2</td>\n      <td>51</td>\n      <td>6.7</td>\n      <td>0.0</td>\n      <td>...</td>\n      <td>0</td>\n      <td>0</td>\n      <td>0</td>\n      <td>0</td>\n      <td>1</td>\n      <td>0</td>\n      <td>0</td>\n      <td>0</td>\n      <td>0</td>\n      <td>small</td>\n    </tr>\n    <tr>\n      <th>1</th>\n      <td>oct</td>\n      <td>tue</td>\n      <td>90.6</td>\n      <td>35.4</td>\n      <td>669.1</td>\n      <td>6.7</td>\n      <td>18.0</td>\n      <td>33</td>\n      <td>0.9</td>\n      <td>0.0</td>\n      <td>...</td>\n      <td>0</td>\n      <td>0</td>\n      <td>0</td>\n      <td>0</td>\n      <td>0</td>\n      <td>0</td>\n      <td>0</td>\n      <td>1</td>\n      <td>0</td>\n      <td>small</td>\n    </tr>\n    <tr>\n      <th>2</th>\n      <td>oct</td>\n      <td>sat</td>\n      <td>90.6</td>\n      <td>43.7</td>\n      <td>686.9</td>\n      <td>6.7</td>\n      <td>14.6</td>\n      <td>33</td>\n      <td>1.3</td>\n      <td>0.0</td>\n      <td>...</td>\n      <td>0</td>\n      <td>0</td>\n      <td>0</td>\n      <td>0</td>\n      <td>0</td>\n      <td>0</td>\n      <td>0</td>\n      <td>1</td>\n      <td>0</td>\n      <td>small</td>\n    </tr>\n    <tr>\n      <th>3</th>\n      <td>mar</td>\n      <td>fri</td>\n      <td>91.7</td>\n      <td>33.3</td>\n      <td>77.5</td>\n      <td>9.0</td>\n      <td>8.3</td>\n      <td>97</td>\n      <td>4.0</td>\n      <td>0.2</td>\n      <td>...</td>\n      <td>0</td>\n      <td>0</td>\n      <td>0</td>\n      <td>0</td>\n      <td>1</td>\n      <td>0</td>\n      <td>0</td>\n      <td>0</td>\n      <td>0</td>\n      <td>small</td>\n    </tr>\n    <tr>\n      <th>4</th>\n      <td>mar</td>\n      <td>sun</td>\n      <td>89.3</td>\n      <td>51.3</td>\n      <td>102.2</td>\n      <td>9.6</td>\n      <td>11.4</td>\n      <td>99</td>\n      <td>1.8</td>\n      <td>0.0</td>\n      <td>...</td>\n      <td>0</td>\n      <td>0</td>\n      <td>0</td>\n      <td>0</td>\n      <td>1</td>\n      <td>0</td>\n      <td>0</td>\n      <td>0</td>\n      <td>0</td>\n      <td>small</td>\n    </tr>\n    <tr>\n      <th>...</th>\n      <td>...</td>\n      <td>...</td>\n      <td>...</td>\n      <td>...</td>\n      <td>...</td>\n      <td>...</td>\n      <td>...</td>\n      <td>...</td>\n      <td>...</td>\n      <td>...</td>\n      <td>...</td>\n      <td>...</td>\n      <td>...</td>\n      <td>...</td>\n      <td>...</td>\n      <td>...</td>\n      <td>...</td>\n      <td>...</td>\n      <td>...</td>\n      <td>...</td>\n      <td>...</td>\n    </tr>\n    <tr>\n      <th>512</th>\n      <td>aug</td>\n      <td>sun</td>\n      <td>81.6</td>\n      <td>56.7</td>\n      <td>665.6</td>\n      <td>1.9</td>\n      <td>27.8</td>\n      <td>32</td>\n      <td>2.7</td>\n      <td>0.0</td>\n      <td>...</td>\n      <td>0</td>\n      <td>0</td>\n      <td>0</td>\n      <td>0</td>\n      <td>0</td>\n      <td>0</td>\n      <td>0</td>\n      <td>0</td>\n      <td>0</td>\n      <td>large</td>\n    </tr>\n    <tr>\n      <th>513</th>\n      <td>aug</td>\n      <td>sun</td>\n      <td>81.6</td>\n      <td>56.7</td>\n      <td>665.6</td>\n      <td>1.9</td>\n      <td>21.9</td>\n      <td>71</td>\n      <td>5.8</td>\n      <td>0.0</td>\n      <td>...</td>\n      <td>0</td>\n      <td>0</td>\n      <td>0</td>\n      <td>0</td>\n      <td>0</td>\n      <td>0</td>\n      <td>0</td>\n      <td>0</td>\n      <td>0</td>\n      <td>large</td>\n    </tr>\n    <tr>\n      <th>514</th>\n      <td>aug</td>\n      <td>sun</td>\n      <td>81.6</td>\n      <td>56.7</td>\n      <td>665.6</td>\n      <td>1.9</td>\n      <td>21.2</td>\n      <td>70</td>\n      <td>6.7</td>\n      <td>0.0</td>\n      <td>...</td>\n      <td>0</td>\n      <td>0</td>\n      <td>0</td>\n      <td>0</td>\n      <td>0</td>\n      <td>0</td>\n      <td>0</td>\n      <td>0</td>\n      <td>0</td>\n      <td>large</td>\n    </tr>\n    <tr>\n      <th>515</th>\n      <td>aug</td>\n      <td>sat</td>\n      <td>94.4</td>\n      <td>146.0</td>\n      <td>614.7</td>\n      <td>11.3</td>\n      <td>25.6</td>\n      <td>42</td>\n      <td>4.0</td>\n      <td>0.0</td>\n      <td>...</td>\n      <td>0</td>\n      <td>0</td>\n      <td>0</td>\n      <td>0</td>\n      <td>0</td>\n      <td>0</td>\n      <td>0</td>\n      <td>0</td>\n      <td>0</td>\n      <td>small</td>\n    </tr>\n    <tr>\n      <th>516</th>\n      <td>nov</td>\n      <td>tue</td>\n      <td>79.5</td>\n      <td>3.0</td>\n      <td>106.7</td>\n      <td>1.1</td>\n      <td>11.8</td>\n      <td>31</td>\n      <td>4.5</td>\n      <td>0.0</td>\n      <td>...</td>\n      <td>0</td>\n      <td>0</td>\n      <td>0</td>\n      <td>0</td>\n      <td>0</td>\n      <td>0</td>\n      <td>1</td>\n      <td>0</td>\n      <td>0</td>\n      <td>small</td>\n    </tr>\n  </tbody>\n</table>\n<p>517 rows × 31 columns</p>\n</div>"
          },
          "metadata": {}
        }
      ]
    },
    {
      "metadata": {
        "ExecuteTime": {
          "start_time": "2022-06-24T23:14:00.619214Z",
          "end_time": "2022-06-24T23:14:00.659337Z"
        },
        "trusted": true
      },
      "cell_type": "code",
      "source": "data=data.drop(['month','day'],axis=1)",
      "execution_count": 3,
      "outputs": []
    },
    {
      "metadata": {
        "ExecuteTime": {
          "start_time": "2022-06-24T23:14:08.351418Z",
          "end_time": "2022-06-24T23:14:08.361015Z"
        },
        "trusted": true
      },
      "cell_type": "code",
      "source": "mapping = {'small': 1, 'large': 2}",
      "execution_count": 4,
      "outputs": []
    },
    {
      "metadata": {
        "ExecuteTime": {
          "start_time": "2022-06-24T23:14:21.727780Z",
          "end_time": "2022-06-24T23:14:21.774996Z"
        },
        "trusted": true
      },
      "cell_type": "code",
      "source": "data = data.replace(mapping)",
      "execution_count": 5,
      "outputs": []
    },
    {
      "metadata": {
        "ExecuteTime": {
          "start_time": "2022-06-24T23:14:33.147237Z",
          "end_time": "2022-06-24T23:14:33.171237Z"
        },
        "trusted": true
      },
      "cell_type": "code",
      "source": "x = np.array(data.iloc[:,0:28])\ny = np.array(data.iloc[:,28])",
      "execution_count": 6,
      "outputs": []
    },
    {
      "metadata": {
        "ExecuteTime": {
          "start_time": "2022-06-24T23:14:40.020930Z",
          "end_time": "2022-06-24T23:14:40.044904Z"
        },
        "trusted": true
      },
      "cell_type": "code",
      "source": "def norm_func(i):\n    x = (i-i.min())/(i.max()-i.min())\n    return (x)",
      "execution_count": 7,
      "outputs": []
    },
    {
      "metadata": {
        "ExecuteTime": {
          "start_time": "2022-06-24T23:14:48.007519Z",
          "end_time": "2022-06-24T23:14:48.032345Z"
        },
        "trusted": true
      },
      "cell_type": "code",
      "source": "x_norm = norm_func(x)",
      "execution_count": 8,
      "outputs": []
    },
    {
      "metadata": {
        "ExecuteTime": {
          "start_time": "2022-06-24T23:14:57.524919Z",
          "end_time": "2022-06-24T23:14:57.573910Z"
        },
        "trusted": true
      },
      "cell_type": "code",
      "source": "x_train,x_test,y_train,y_test= train_test_split(x_norm,y, test_size=0.2,stratify = y)",
      "execution_count": 9,
      "outputs": []
    },
    {
      "metadata": {
        "ExecuteTime": {
          "start_time": "2022-06-24T23:15:05.185160Z",
          "end_time": "2022-06-24T23:15:05.368454Z"
        },
        "trusted": true
      },
      "cell_type": "code",
      "source": "model = Sequential()\nmodel.add(Dense(8, input_dim=28, activation='linear'))\nmodel.add(Dense(4,  activation='tanh'))\nmodel.add(Dense(1,  activation='sigmoid'))",
      "execution_count": 10,
      "outputs": []
    },
    {
      "metadata": {
        "ExecuteTime": {
          "start_time": "2022-06-24T23:15:12.969924Z",
          "end_time": "2022-06-24T23:15:13.026858Z"
        },
        "trusted": true
      },
      "cell_type": "code",
      "source": "model.compile(loss='binary_crossentropy', optimizer='adam', metrics=['accuracy'])",
      "execution_count": 11,
      "outputs": []
    },
    {
      "metadata": {
        "ExecuteTime": {
          "start_time": "2022-06-24T23:15:22.570502Z",
          "end_time": "2022-06-24T23:15:49.882464Z"
        },
        "trusted": true
      },
      "cell_type": "code",
      "source": "history=model.fit(x_train, y_train, validation_split=0.3, epochs=120, batch_size=10)",
      "execution_count": 12,
      "outputs": [
        {
          "output_type": "stream",
          "text": "Epoch 1/120\n29/29 [==============================] - 1s 18ms/step - loss: 0.3732 - accuracy: 0.7093 - val_loss: 0.2758 - val_accuracy: 0.7661\nEpoch 2/120\n29/29 [==============================] - 0s 7ms/step - loss: 0.1256 - accuracy: 0.7163 - val_loss: 0.0593 - val_accuracy: 0.7661\nEpoch 3/120\n29/29 [==============================] - 0s 8ms/step - loss: -0.0977 - accuracy: 0.7163 - val_loss: -0.1318 - val_accuracy: 0.7661\nEpoch 4/120\n29/29 [==============================] - 0s 7ms/step - loss: -0.2956 - accuracy: 0.7163 - val_loss: -0.2925 - val_accuracy: 0.7661\nEpoch 5/120\n29/29 [==============================] - 0s 7ms/step - loss: -0.4600 - accuracy: 0.7163 - val_loss: -0.4288 - val_accuracy: 0.7661\nEpoch 6/120\n29/29 [==============================] - 0s 10ms/step - loss: -0.6021 - accuracy: 0.7163 - val_loss: -0.5359 - val_accuracy: 0.7661\nEpoch 7/120\n29/29 [==============================] - 0s 10ms/step - loss: -0.7177 - accuracy: 0.7163 - val_loss: -0.6282 - val_accuracy: 0.7661\nEpoch 8/120\n29/29 [==============================] - 0s 13ms/step - loss: -0.8178 - accuracy: 0.7163 - val_loss: -0.7048 - val_accuracy: 0.7661\nEpoch 9/120\n29/29 [==============================] - 0s 12ms/step - loss: -0.9018 - accuracy: 0.7163 - val_loss: -0.7727 - val_accuracy: 0.7661\nEpoch 10/120\n29/29 [==============================] - 0s 11ms/step - loss: -0.9767 - accuracy: 0.7163 - val_loss: -0.8311 - val_accuracy: 0.7661\nEpoch 11/120\n29/29 [==============================] - 0s 6ms/step - loss: -1.0422 - accuracy: 0.7163 - val_loss: -0.8852 - val_accuracy: 0.7661\nEpoch 12/120\n29/29 [==============================] - 0s 8ms/step - loss: -1.1032 - accuracy: 0.7163 - val_loss: -0.9326 - val_accuracy: 0.7661\nEpoch 13/120\n29/29 [==============================] - 0s 6ms/step - loss: -1.1584 - accuracy: 0.7163 - val_loss: -0.9778 - val_accuracy: 0.7661\nEpoch 14/120\n29/29 [==============================] - 0s 7ms/step - loss: -1.2110 - accuracy: 0.7163 - val_loss: -1.0198 - val_accuracy: 0.7661\nEpoch 15/120\n29/29 [==============================] - 0s 11ms/step - loss: -1.2605 - accuracy: 0.7163 - val_loss: -1.0598 - val_accuracy: 0.7661\nEpoch 16/120\n29/29 [==============================] - 0s 11ms/step - loss: -1.3080 - accuracy: 0.7163 - val_loss: -1.0981 - val_accuracy: 0.7661\nEpoch 17/120\n29/29 [==============================] - 0s 10ms/step - loss: -1.3539 - accuracy: 0.7163 - val_loss: -1.1352 - val_accuracy: 0.7661\nEpoch 18/120\n29/29 [==============================] - 0s 10ms/step - loss: -1.3983 - accuracy: 0.7163 - val_loss: -1.1718 - val_accuracy: 0.7661\nEpoch 19/120\n29/29 [==============================] - 0s 10ms/step - loss: -1.4424 - accuracy: 0.7163 - val_loss: -1.2068 - val_accuracy: 0.7661\nEpoch 20/120\n29/29 [==============================] - 0s 11ms/step - loss: -1.4843 - accuracy: 0.7163 - val_loss: -1.2426 - val_accuracy: 0.7661\nEpoch 21/120\n29/29 [==============================] - 0s 8ms/step - loss: -1.5270 - accuracy: 0.7163 - val_loss: -1.2761 - val_accuracy: 0.7661\nEpoch 22/120\n29/29 [==============================] - 0s 7ms/step - loss: -1.5681 - accuracy: 0.7163 - val_loss: -1.3098 - val_accuracy: 0.7661\nEpoch 23/120\n29/29 [==============================] - 0s 7ms/step - loss: -1.6082 - accuracy: 0.7163 - val_loss: -1.3445 - val_accuracy: 0.7661\nEpoch 24/120\n29/29 [==============================] - 0s 7ms/step - loss: -1.6491 - accuracy: 0.7163 - val_loss: -1.3771 - val_accuracy: 0.7661\nEpoch 25/120\n29/29 [==============================] - 0s 7ms/step - loss: -1.6891 - accuracy: 0.7163 - val_loss: -1.4094 - val_accuracy: 0.7661\nEpoch 26/120\n29/29 [==============================] - 0s 8ms/step - loss: -1.7289 - accuracy: 0.7163 - val_loss: -1.4413 - val_accuracy: 0.7661\nEpoch 27/120\n29/29 [==============================] - 0s 8ms/step - loss: -1.7678 - accuracy: 0.7163 - val_loss: -1.4737 - val_accuracy: 0.7661\nEpoch 28/120\n29/29 [==============================] - 0s 7ms/step - loss: -1.8072 - accuracy: 0.7163 - val_loss: -1.5059 - val_accuracy: 0.7661\nEpoch 29/120\n29/29 [==============================] - 0s 11ms/step - loss: -1.8455 - accuracy: 0.7163 - val_loss: -1.5393 - val_accuracy: 0.7661\nEpoch 30/120\n29/29 [==============================] - 0s 12ms/step - loss: -1.8849 - accuracy: 0.7163 - val_loss: -1.5712 - val_accuracy: 0.7661\nEpoch 31/120\n29/29 [==============================] - 0s 9ms/step - loss: -1.9241 - accuracy: 0.7163 - val_loss: -1.6010 - val_accuracy: 0.7661\nEpoch 32/120\n29/29 [==============================] - 0s 9ms/step - loss: -1.9608 - accuracy: 0.7163 - val_loss: -1.6343 - val_accuracy: 0.7661\nEpoch 33/120\n29/29 [==============================] - 0s 6ms/step - loss: -2.0002 - accuracy: 0.7163 - val_loss: -1.6646 - val_accuracy: 0.7661\nEpoch 34/120\n29/29 [==============================] - 0s 4ms/step - loss: -2.0380 - accuracy: 0.7163 - val_loss: -1.6952 - val_accuracy: 0.7661\nEpoch 35/120\n29/29 [==============================] - 0s 5ms/step - loss: -2.0750 - accuracy: 0.7163 - val_loss: -1.7279 - val_accuracy: 0.7661\nEpoch 36/120\n29/29 [==============================] - 0s 5ms/step - loss: -2.1133 - accuracy: 0.7163 - val_loss: -1.7593 - val_accuracy: 0.7661\nEpoch 37/120\n29/29 [==============================] - 0s 5ms/step - loss: -2.1513 - accuracy: 0.7163 - val_loss: -1.7901 - val_accuracy: 0.7661\nEpoch 38/120\n29/29 [==============================] - 0s 5ms/step - loss: -2.1894 - accuracy: 0.7163 - val_loss: -1.8189 - val_accuracy: 0.7661\nEpoch 39/120\n29/29 [==============================] - 0s 6ms/step - loss: -2.2253 - accuracy: 0.7163 - val_loss: -1.8526 - val_accuracy: 0.7661\nEpoch 40/120\n29/29 [==============================] - 0s 5ms/step - loss: -2.2644 - accuracy: 0.7163 - val_loss: -1.8824 - val_accuracy: 0.7661\nEpoch 41/120\n29/29 [==============================] - 0s 6ms/step - loss: -2.3015 - accuracy: 0.7163 - val_loss: -1.9132 - val_accuracy: 0.7661\nEpoch 42/120\n29/29 [==============================] - 0s 5ms/step - loss: -2.3392 - accuracy: 0.7163 - val_loss: -1.9434 - val_accuracy: 0.7661\nEpoch 43/120\n29/29 [==============================] - 0s 6ms/step - loss: -2.3758 - accuracy: 0.7163 - val_loss: -1.9751 - val_accuracy: 0.7661\nEpoch 44/120\n29/29 [==============================] - 0s 7ms/step - loss: -2.4140 - accuracy: 0.7163 - val_loss: -2.0047 - val_accuracy: 0.7661\nEpoch 45/120\n29/29 [==============================] - 0s 5ms/step - loss: -2.4505 - accuracy: 0.7163 - val_loss: -2.0363 - val_accuracy: 0.7661\nEpoch 46/120\n29/29 [==============================] - 0s 8ms/step - loss: -2.4880 - accuracy: 0.7163 - val_loss: -2.0670 - val_accuracy: 0.7661\nEpoch 47/120\n29/29 [==============================] - 0s 6ms/step - loss: -2.5255 - accuracy: 0.7163 - val_loss: -2.0969 - val_accuracy: 0.7661\nEpoch 48/120\n29/29 [==============================] - 0s 5ms/step - loss: -2.5617 - accuracy: 0.7163 - val_loss: -2.1289 - val_accuracy: 0.7661\nEpoch 49/120\n29/29 [==============================] - 0s 5ms/step - loss: -2.5992 - accuracy: 0.7163 - val_loss: -2.1596 - val_accuracy: 0.7661\nEpoch 50/120\n29/29 [==============================] - 0s 5ms/step - loss: -2.6370 - accuracy: 0.7163 - val_loss: -2.1887 - val_accuracy: 0.7661\nEpoch 51/120\n29/29 [==============================] - 0s 5ms/step - loss: -2.6739 - accuracy: 0.7163 - val_loss: -2.2179 - val_accuracy: 0.7661\nEpoch 52/120\n29/29 [==============================] - 0s 5ms/step - loss: -2.7100 - accuracy: 0.7163 - val_loss: -2.2498 - val_accuracy: 0.7661\nEpoch 53/120\n29/29 [==============================] - 0s 5ms/step - loss: -2.7480 - accuracy: 0.7163 - val_loss: -2.2787 - val_accuracy: 0.7661\nEpoch 54/120\n29/29 [==============================] - 0s 5ms/step - loss: -2.7840 - accuracy: 0.7163 - val_loss: -2.3108 - val_accuracy: 0.7661\nEpoch 55/120\n29/29 [==============================] - 0s 5ms/step - loss: -2.8214 - accuracy: 0.7163 - val_loss: -2.3416 - val_accuracy: 0.7661\nEpoch 56/120\n29/29 [==============================] - 0s 4ms/step - loss: -2.8584 - accuracy: 0.7163 - val_loss: -2.3723 - val_accuracy: 0.7661\nEpoch 57/120\n29/29 [==============================] - 0s 5ms/step - loss: -2.8957 - accuracy: 0.7163 - val_loss: -2.4021 - val_accuracy: 0.7661\n",
          "name": "stdout"
        },
        {
          "output_type": "stream",
          "text": "Epoch 58/120\n29/29 [==============================] - 0s 5ms/step - loss: -2.9323 - accuracy: 0.7163 - val_loss: -2.4330 - val_accuracy: 0.7661\nEpoch 59/120\n29/29 [==============================] - 0s 6ms/step - loss: -2.9694 - accuracy: 0.7163 - val_loss: -2.4634 - val_accuracy: 0.7661\nEpoch 60/120\n29/29 [==============================] - 0s 5ms/step - loss: -3.0064 - accuracy: 0.7163 - val_loss: -2.4936 - val_accuracy: 0.7661\nEpoch 61/120\n29/29 [==============================] - 0s 5ms/step - loss: -3.0434 - accuracy: 0.7163 - val_loss: -2.5234 - val_accuracy: 0.7661\nEpoch 62/120\n29/29 [==============================] - 0s 4ms/step - loss: -3.0797 - accuracy: 0.7163 - val_loss: -2.5550 - val_accuracy: 0.7661\nEpoch 63/120\n29/29 [==============================] - 0s 5ms/step - loss: -3.1171 - accuracy: 0.7163 - val_loss: -2.5857 - val_accuracy: 0.7661\nEpoch 64/120\n29/29 [==============================] - 0s 6ms/step - loss: -3.1535 - accuracy: 0.7163 - val_loss: -2.6169 - val_accuracy: 0.7661\nEpoch 65/120\n29/29 [==============================] - 0s 5ms/step - loss: -3.1914 - accuracy: 0.7163 - val_loss: -2.6464 - val_accuracy: 0.7661\nEpoch 66/120\n29/29 [==============================] - 0s 7ms/step - loss: -3.2283 - accuracy: 0.7163 - val_loss: -2.6761 - val_accuracy: 0.7661\nEpoch 67/120\n29/29 [==============================] - 0s 9ms/step - loss: -3.2652 - accuracy: 0.7163 - val_loss: -2.7058 - val_accuracy: 0.7661\nEpoch 68/120\n29/29 [==============================] - 0s 7ms/step - loss: -3.3008 - accuracy: 0.7163 - val_loss: -2.7386 - val_accuracy: 0.7661\nEpoch 69/120\n29/29 [==============================] - 0s 8ms/step - loss: -3.3393 - accuracy: 0.7163 - val_loss: -2.7675 - val_accuracy: 0.7661\nEpoch 70/120\n29/29 [==============================] - 0s 7ms/step - loss: -3.3752 - accuracy: 0.7163 - val_loss: -2.7988 - val_accuracy: 0.7661\nEpoch 71/120\n29/29 [==============================] - 0s 7ms/step - loss: -3.4127 - accuracy: 0.7163 - val_loss: -2.8288 - val_accuracy: 0.7661\nEpoch 72/120\n29/29 [==============================] - 0s 6ms/step - loss: -3.4494 - accuracy: 0.7163 - val_loss: -2.8590 - val_accuracy: 0.7661\nEpoch 73/120\n29/29 [==============================] - 0s 11ms/step - loss: -3.4862 - accuracy: 0.7163 - val_loss: -2.8893 - val_accuracy: 0.7661\nEpoch 74/120\n29/29 [==============================] - 0s 7ms/step - loss: -3.5233 - accuracy: 0.7163 - val_loss: -2.9189 - val_accuracy: 0.7661\nEpoch 75/120\n29/29 [==============================] - 0s 10ms/step - loss: -3.5597 - accuracy: 0.7163 - val_loss: -2.9500 - val_accuracy: 0.7661\nEpoch 76/120\n29/29 [==============================] - 0s 7ms/step - loss: -3.5961 - accuracy: 0.7163 - val_loss: -2.9816 - val_accuracy: 0.7661\nEpoch 77/120\n29/29 [==============================] - 0s 7ms/step - loss: -3.6338 - accuracy: 0.7163 - val_loss: -3.0116 - val_accuracy: 0.7661\nEpoch 78/120\n29/29 [==============================] - 0s 7ms/step - loss: -3.6707 - accuracy: 0.7163 - val_loss: -3.0414 - val_accuracy: 0.7661\nEpoch 79/120\n29/29 [==============================] - 0s 7ms/step - loss: -3.7076 - accuracy: 0.7163 - val_loss: -3.0713 - val_accuracy: 0.7661\nEpoch 80/120\n29/29 [==============================] - 0s 7ms/step - loss: -3.7435 - accuracy: 0.7163 - val_loss: -3.1034 - val_accuracy: 0.7661\nEpoch 81/120\n29/29 [==============================] - 0s 7ms/step - loss: -3.7819 - accuracy: 0.7163 - val_loss: -3.1314 - val_accuracy: 0.7661\nEpoch 82/120\n29/29 [==============================] - 0s 8ms/step - loss: -3.8177 - accuracy: 0.7163 - val_loss: -3.1627 - val_accuracy: 0.7661\nEpoch 83/120\n29/29 [==============================] - 0s 7ms/step - loss: -3.8552 - accuracy: 0.7163 - val_loss: -3.1924 - val_accuracy: 0.7661\nEpoch 84/120\n29/29 [==============================] - 0s 10ms/step - loss: -3.8914 - accuracy: 0.7163 - val_loss: -3.2239 - val_accuracy: 0.7661\nEpoch 85/120\n29/29 [==============================] - 0s 8ms/step - loss: -3.9288 - accuracy: 0.7163 - val_loss: -3.2541 - val_accuracy: 0.7661\nEpoch 86/120\n29/29 [==============================] - 0s 7ms/step - loss: -3.9654 - accuracy: 0.7163 - val_loss: -3.2849 - val_accuracy: 0.7661\nEpoch 87/120\n29/29 [==============================] - 0s 14ms/step - loss: -4.0029 - accuracy: 0.7163 - val_loss: -3.3138 - val_accuracy: 0.7661\nEpoch 88/120\n29/29 [==============================] - 0s 11ms/step - loss: -4.0388 - accuracy: 0.7163 - val_loss: -3.3449 - val_accuracy: 0.7661\nEpoch 89/120\n29/29 [==============================] - 0s 12ms/step - loss: -4.0760 - accuracy: 0.7163 - val_loss: -3.3752 - val_accuracy: 0.7661\nEpoch 90/120\n29/29 [==============================] - 0s 7ms/step - loss: -4.1121 - accuracy: 0.7163 - val_loss: -3.4066 - val_accuracy: 0.7661\nEpoch 91/120\n29/29 [==============================] - 0s 5ms/step - loss: -4.1500 - accuracy: 0.7163 - val_loss: -3.4355 - val_accuracy: 0.7661\nEpoch 92/120\n29/29 [==============================] - 0s 6ms/step - loss: -4.1860 - accuracy: 0.7163 - val_loss: -3.4665 - val_accuracy: 0.7661\nEpoch 93/120\n29/29 [==============================] - 0s 5ms/step - loss: -4.2230 - accuracy: 0.7163 - val_loss: -3.4969 - val_accuracy: 0.7661\nEpoch 94/120\n29/29 [==============================] - 0s 5ms/step - loss: -4.2599 - accuracy: 0.7163 - val_loss: -3.5270 - val_accuracy: 0.7661\nEpoch 95/120\n29/29 [==============================] - 0s 6ms/step - loss: -4.2967 - accuracy: 0.7163 - val_loss: -3.5575 - val_accuracy: 0.7661\nEpoch 96/120\n29/29 [==============================] - 0s 7ms/step - loss: -4.3337 - accuracy: 0.7163 - val_loss: -3.5871 - val_accuracy: 0.7661\nEpoch 97/120\n29/29 [==============================] - 0s 12ms/step - loss: -4.3700 - accuracy: 0.7163 - val_loss: -3.6180 - val_accuracy: 0.7661\nEpoch 98/120\n29/29 [==============================] - 0s 12ms/step - loss: -4.4067 - accuracy: 0.7163 - val_loss: -3.6490 - val_accuracy: 0.7661\nEpoch 99/120\n29/29 [==============================] - 0s 8ms/step - loss: -4.4438 - accuracy: 0.7163 - val_loss: -3.6789 - val_accuracy: 0.7661\nEpoch 100/120\n29/29 [==============================] - 0s 6ms/step - loss: -4.4804 - accuracy: 0.7163 - val_loss: -3.7088 - val_accuracy: 0.7661\nEpoch 101/120\n29/29 [==============================] - 0s 5ms/step - loss: -4.5168 - accuracy: 0.7163 - val_loss: -3.7393 - val_accuracy: 0.7661\nEpoch 102/120\n29/29 [==============================] - 0s 8ms/step - loss: -4.5534 - accuracy: 0.7163 - val_loss: -3.7697 - val_accuracy: 0.7661\nEpoch 103/120\n29/29 [==============================] - 0s 5ms/step - loss: -4.5900 - accuracy: 0.7163 - val_loss: -3.8002 - val_accuracy: 0.7661\nEpoch 104/120\n29/29 [==============================] - 0s 5ms/step - loss: -4.6267 - accuracy: 0.7163 - val_loss: -3.8308 - val_accuracy: 0.7661\nEpoch 105/120\n29/29 [==============================] - 0s 8ms/step - loss: -4.6640 - accuracy: 0.7163 - val_loss: -3.8600 - val_accuracy: 0.7661\nEpoch 106/120\n29/29 [==============================] - 0s 8ms/step - loss: -4.7000 - accuracy: 0.7163 - val_loss: -3.8910 - val_accuracy: 0.7661\nEpoch 107/120\n29/29 [==============================] - 0s 8ms/step - loss: -4.7379 - accuracy: 0.7163 - val_loss: -3.9194 - val_accuracy: 0.7661\nEpoch 108/120\n29/29 [==============================] - 0s 8ms/step - loss: -4.7735 - accuracy: 0.7163 - val_loss: -3.9508 - val_accuracy: 0.7661\nEpoch 109/120\n29/29 [==============================] - 0s 7ms/step - loss: -4.8106 - accuracy: 0.7163 - val_loss: -3.9814 - val_accuracy: 0.7661\nEpoch 110/120\n29/29 [==============================] - 0s 9ms/step - loss: -4.8478 - accuracy: 0.7163 - val_loss: -4.0111 - val_accuracy: 0.7661\nEpoch 111/120\n29/29 [==============================] - 0s 7ms/step - loss: -4.8843 - accuracy: 0.7163 - val_loss: -4.0416 - val_accuracy: 0.7661\nEpoch 112/120\n29/29 [==============================] - 0s 8ms/step - loss: -4.9206 - accuracy: 0.7163 - val_loss: -4.0730 - val_accuracy: 0.7661\nEpoch 113/120\n29/29 [==============================] - 0s 8ms/step - loss: -4.9584 - accuracy: 0.7163 - val_loss: -4.1020 - val_accuracy: 0.7661\nEpoch 114/120\n29/29 [==============================] - 0s 8ms/step - loss: -4.9950 - accuracy: 0.7163 - val_loss: -4.1317 - val_accuracy: 0.7661\n",
          "name": "stdout"
        },
        {
          "output_type": "stream",
          "text": "Epoch 115/120\n29/29 [==============================] - 0s 7ms/step - loss: -5.0302 - accuracy: 0.7163 - val_loss: -4.1648 - val_accuracy: 0.7661\nEpoch 116/120\n29/29 [==============================] - 0s 7ms/step - loss: -5.0695 - accuracy: 0.7163 - val_loss: -4.1926 - val_accuracy: 0.7661\nEpoch 117/120\n29/29 [==============================] - 0s 7ms/step - loss: -5.1055 - accuracy: 0.7163 - val_loss: -4.2229 - val_accuracy: 0.7661\nEpoch 118/120\n29/29 [==============================] - 0s 8ms/step - loss: -5.1419 - accuracy: 0.7163 - val_loss: -4.2544 - val_accuracy: 0.7661\nEpoch 119/120\n29/29 [==============================] - 0s 8ms/step - loss: -5.1794 - accuracy: 0.7163 - val_loss: -4.2844 - val_accuracy: 0.7661\nEpoch 120/120\n29/29 [==============================] - 0s 7ms/step - loss: -5.2152 - accuracy: 0.7163 - val_loss: -4.3166 - val_accuracy: 0.7661\n",
          "name": "stdout"
        }
      ]
    },
    {
      "metadata": {
        "ExecuteTime": {
          "start_time": "2022-06-24T23:15:54.002881Z",
          "end_time": "2022-06-24T23:15:54.227043Z"
        },
        "trusted": true
      },
      "cell_type": "code",
      "source": "scores = model.evaluate(x_train, y_train)\nprint(\"%s: %.2f%%\" % (model.metrics_names[1], scores[1]*100))",
      "execution_count": 13,
      "outputs": [
        {
          "output_type": "stream",
          "text": "13/13 [==============================] - 0s 4ms/step - loss: -4.9607 - accuracy: 0.7312\naccuracy: 73.12%\n",
          "name": "stdout"
        }
      ]
    },
    {
      "metadata": {
        "ExecuteTime": {
          "start_time": "2022-06-24T23:16:52.872119Z",
          "end_time": "2022-06-24T23:16:53.072578Z"
        },
        "trusted": true
      },
      "cell_type": "code",
      "source": "scores = model.evaluate(x_test, y_test)\nprint(\"%s: %.2f%%\" % (model.metrics_names[1], scores[1]*100))",
      "execution_count": 14,
      "outputs": [
        {
          "output_type": "stream",
          "text": "4/4 [==============================] - 0s 6ms/step - loss: -4.9694 - accuracy: 0.7308\naccuracy: 73.08%\n",
          "name": "stdout"
        }
      ]
    }
  ],
  "metadata": {
    "kernelspec": {
      "name": "python3",
      "display_name": "Python 3 (ipykernel)",
      "language": "python"
    },
    "language_info": {
      "name": "python",
      "version": "3.9.7",
      "mimetype": "text/x-python",
      "codemirror_mode": {
        "name": "ipython",
        "version": 3
      },
      "pygments_lexer": "ipython3",
      "nbconvert_exporter": "python",
      "file_extension": ".py"
    },
    "gist": {
      "id": "",
      "data": {
        "description": "neural networks assignment forest fire",
        "public": true
      }
    }
  },
  "nbformat": 4,
  "nbformat_minor": 5
}